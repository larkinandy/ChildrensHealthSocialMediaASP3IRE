{
 "cells": [
  {
   "cell_type": "code",
   "execution_count": 1,
   "id": "80a6e14a",
   "metadata": {},
   "outputs": [
    {
     "name": "stderr",
     "output_type": "stream",
     "text": [
      "2023-09-26 14:26:13.207568: I tensorflow/core/platform/cpu_feature_guard.cc:193] This TensorFlow binary is optimized with oneAPI Deep Neural Network Library (oneDNN) to use the following CPU instructions in performance-critical operations:  AVX2 AVX512F AVX512_VNNI AVX512_BF16 FMA\n",
      "To enable them in other operations, rebuild TensorFlow with the appropriate compiler flags.\n",
      "2023-09-26 14:26:13.291476: I tensorflow/core/util/port.cc:104] oneDNN custom operations are on. You may see slightly different numerical results due to floating-point round-off errors from different computation orders. To turn them off, set the environment variable `TF_ENABLE_ONEDNN_OPTS=0`.\n",
      "2023-09-26 14:26:13.588137: W tensorflow/compiler/xla/stream_executor/platform/default/dso_loader.cc:64] Could not load dynamic library 'libnvinfer.so.7'; dlerror: libnvinfer.so.7: cannot open shared object file: No such file or directory; LD_LIBRARY_PATH: /home/larkinan/miniconda3/envs/tf/lib/python3.9/site-packages/cv2/../../lib64::/home/larkinan/miniconda3/envs/tf/lib/:/home/larkinan/miniconda3/envs/tf/lib/python3.9/site-packages/nvidia/cudnn/lib:/home/larkinan/miniconda3/envs/tf/lib/:/home/larkinan/miniconda3/envs/tf/lib/python3.9/site-packages/nvidia/cudnn/lib:/home/larkinan/miniconda3/envs/tf/lib/:/home/larkinan/miniconda3/envs/tf/lib/python3.9/site-packages/nvidia/cudnn/lib\n",
      "2023-09-26 14:26:13.590175: W tensorflow/compiler/xla/stream_executor/platform/default/dso_loader.cc:64] Could not load dynamic library 'libnvinfer_plugin.so.7'; dlerror: libnvinfer_plugin.so.7: cannot open shared object file: No such file or directory; LD_LIBRARY_PATH: /home/larkinan/miniconda3/envs/tf/lib/python3.9/site-packages/cv2/../../lib64::/home/larkinan/miniconda3/envs/tf/lib/:/home/larkinan/miniconda3/envs/tf/lib/python3.9/site-packages/nvidia/cudnn/lib:/home/larkinan/miniconda3/envs/tf/lib/:/home/larkinan/miniconda3/envs/tf/lib/python3.9/site-packages/nvidia/cudnn/lib:/home/larkinan/miniconda3/envs/tf/lib/:/home/larkinan/miniconda3/envs/tf/lib/python3.9/site-packages/nvidia/cudnn/lib\n",
      "2023-09-26 14:26:13.590182: W tensorflow/compiler/tf2tensorrt/utils/py_utils.cc:38] TF-TRT Warning: Cannot dlopen some TensorRT libraries. If you would like to use Nvidia GPU with TensorRT, please make sure the missing libraries mentioned above are installed properly.\n",
      "/home/larkinan/miniconda3/envs/tf/lib/python3.9/site-packages/transformers/generation_utils.py:24: FutureWarning: Importing `GenerationMixin` from `src/transformers/generation_utils.py` is deprecated and will be removed in Transformers v5. Import as `from transformers import GenerationMixin` instead.\n",
      "  warnings.warn(\n",
      "/home/larkinan/miniconda3/envs/tf/lib/python3.9/site-packages/transformers/generation_tf_utils.py:24: FutureWarning: Importing `TFGenerationMixin` from `src/transformers/generation_tf_utils.py` is deprecated and will be removed in Transformers v5. Import as `from transformers import TFGenerationMixin` instead.\n",
      "  warnings.warn(\n"
     ]
    }
   ],
   "source": [
    "# Import dependencies\n",
    "import pandas as ps\n",
    "import numpy as np\n",
    "import matplotlib.pyplot as plt\n",
    "import cv2\n",
    "import os\n",
    "from zipfile import ZipFile\n",
    "import time\n",
    "from datetime import datetime\n",
    "import itertools\n",
    "from sklearn.model_selection import train_test_split\n",
    "from sklearn.metrics import confusion_matrix\n",
    "import tensorflow as tf\n",
    "from tensorflow.keras.models import Sequential\n",
    "from tensorflow.keras.layers import Dense\n",
    "from tensorflow.keras.layers import Conv2D, AveragePooling2D, GlobalAveragePooling2D, Dropout\n",
    "from tensorflow.keras import utils \n",
    "from tensorflow.keras.callbacks import TensorBoard, ModelCheckpoint\n",
    "import glob\n",
    "\n",
    "# Setting random seeds to reduce the amount of randomness in the neural net weights and results\n",
    "# The results may still not be exactly reproducible\n",
    "np.random.seed(42)\n",
    "tf.random.set_seed(42)\n",
    "import tensorflow as tf\n",
    "import os\n",
    "import glob\n",
    "import numpy as np\n",
    "from transformers import BertTokenizer, TFBertForMaskedLM\n",
    "from keras.callbacks import ModelCheckpoint\n",
    "from transformers import *\n",
    "import transformers\n",
    "import keras\n",
    "import shutil\n",
    "import time\n"
   ]
  },
  {
   "cell_type": "code",
   "execution_count": 2,
   "id": "f45b9612",
   "metadata": {},
   "outputs": [],
   "source": [
    "\n",
    "class TFRecordReader():\n",
    "    \n",
    "    def __init__(self,dataFolder,batchSize):\n",
    "        self.dataFolder = dataFolder\n",
    "        self.tfRecords = self.load_dataset(dataFolder,'*.tfrecords')\n",
    "        self.batch_size = batchSize\n",
    "        self.AUTOTUNE = tf.data.AUTOTUNE\n",
    "    \n",
    "        \n",
    "    def parse_tfr_element(self,element):\n",
    "      #use the same structure as above; it's kinda an outline of the structure we now want to create\n",
    "        data = {\n",
    "           # 'len': tf.io.FixedLenFeature([], tf.int64),\n",
    "            'input_ids':tf.io.FixedLenFeature([],tf.string),\n",
    "           # 'token_type_ids':tf.io.FixedLenFeature([],tf.string),\n",
    "            'masks':tf.io.FixedLenFeature([],tf.string),\n",
    "            'labels':tf.io.FixedLenFeature([],tf.string),\n",
    "        }\n",
    "\n",
    "\n",
    "        content = tf.io.parse_single_example(element, data)\n",
    "        print(content.keys())\n",
    "\n",
    "        #len = content['len']\n",
    "        input_ids = content['input_ids']\n",
    "        #token_type_ids = content['token_type_ids']\n",
    "        masks = content['masks']\n",
    "        labels = content['labels']\n",
    "\n",
    "        in_ids = tf.io.parse_tensor(input_ids, out_type=tf.int32)\n",
    "        #token_ids = tf.io.parse_tensor(token_type_ids, out_type=tf.int64)\n",
    "        msk = tf.io.parse_tensor(masks, out_type=tf.int32)\n",
    "        lab = tf.io.parse_tensor(labels, out_type=tf.int64)\n",
    "        \n",
    "        return([(in_ids,msk),lab])\n",
    "    \n",
    "            \n",
    "\n",
    "    def load_dataset(self,tfdir,pattern):\n",
    "        print(tfdir)\n",
    "        print(len(os.listdir(tfdir)))\n",
    "        files =  glob.glob(tfdir+pattern,recursive=False)\n",
    "        a = list(files)\n",
    "        print(a[0])\n",
    "        np.random.shuffle(a)\n",
    "        print(\"found %i tf records \\n\\n\\n\" %(len(a)))\n",
    "        dataset = tf.data.TFRecordDataset(a)\n",
    "        ignore_order = tf.data.Options()\n",
    "        ignore_order.experimental_deterministic = False  # disable order, increase speed\n",
    "\n",
    "        dataset.with_options(ignore_order)  # uses data as soon as it streams in, rather than in its original order\n",
    "        print(\"parsing\")\n",
    "\n",
    "        dataset = dataset.map(self.parse_tfr_element,num_parallel_calls=tf.data.AUTOTUNE)\n",
    "        print(\"parsed\")\n",
    "        dataset = dataset.shuffle(4096*10)\n",
    "        return (dataset)\n",
    "    \n",
    "def loadDataset(dataFolder):\n",
    "    recordReader = TFRecordReader(dataFolder,128) \n",
    "    train_data = recordReader.tfRecords.prefetch(buffer_size=AUTOTUNE)\n",
    "    #val_data = recordReader.tfRecords[1].prefetch(buffer_size=AUTOTUNE)\n",
    "    train_data = train_data.batch(TRAIN_BATCH_SIZE,deterministic=False)#.cache()#.map(randomFlipMap)\n",
    "    #val_data = val_data.batch(VAL_BATCH_SIZE)\n",
    "    print(\"loaded dataset\")\n",
    "    return(train_data)\n",
    "    "
   ]
  },
  {
   "cell_type": "code",
   "execution_count": 3,
   "id": "966020ec",
   "metadata": {},
   "outputs": [
    {
     "name": "stdout",
     "output_type": "stream",
     "text": [
      "Num GPUs Available:  1\n",
      "[PhysicalDevice(name='/physical_device:GPU:0', device_type='GPU')]\n",
      "/mnt/h/Aspire/BERT/place/test/\n",
      "1\n",
      "/mnt/h/Aspire/BERT/place/test/placeDataTest.tfrecords\n",
      "found 1 tf records \n",
      "\n",
      "\n",
      "\n"
     ]
    },
    {
     "name": "stderr",
     "output_type": "stream",
     "text": [
      "2023-09-26 14:26:15.531827: I tensorflow/compiler/xla/stream_executor/cuda/cuda_gpu_executor.cc:967] could not open file to read NUMA node: /sys/bus/pci/devices/0000:01:00.0/numa_node\n",
      "Your kernel may have been built without NUMA support.\n",
      "2023-09-26 14:26:15.534557: I tensorflow/compiler/xla/stream_executor/cuda/cuda_gpu_executor.cc:967] could not open file to read NUMA node: /sys/bus/pci/devices/0000:01:00.0/numa_node\n",
      "Your kernel may have been built without NUMA support.\n",
      "2023-09-26 14:26:15.534594: I tensorflow/compiler/xla/stream_executor/cuda/cuda_gpu_executor.cc:967] could not open file to read NUMA node: /sys/bus/pci/devices/0000:01:00.0/numa_node\n",
      "Your kernel may have been built without NUMA support.\n",
      "2023-09-26 14:26:15.540556: I tensorflow/compiler/xla/stream_executor/cuda/cuda_gpu_executor.cc:967] could not open file to read NUMA node: /sys/bus/pci/devices/0000:01:00.0/numa_node\n",
      "Your kernel may have been built without NUMA support.\n",
      "2023-09-26 14:26:15.540630: I tensorflow/compiler/xla/stream_executor/cuda/cuda_gpu_executor.cc:967] could not open file to read NUMA node: /sys/bus/pci/devices/0000:01:00.0/numa_node\n",
      "Your kernel may have been built without NUMA support.\n",
      "2023-09-26 14:26:15.540653: I tensorflow/compiler/xla/stream_executor/cuda/cuda_gpu_executor.cc:967] could not open file to read NUMA node: /sys/bus/pci/devices/0000:01:00.0/numa_node\n",
      "Your kernel may have been built without NUMA support.\n",
      "2023-09-26 14:26:16.433020: I tensorflow/compiler/xla/stream_executor/cuda/cuda_gpu_executor.cc:967] could not open file to read NUMA node: /sys/bus/pci/devices/0000:01:00.0/numa_node\n",
      "Your kernel may have been built without NUMA support.\n",
      "2023-09-26 14:26:16.433179: I tensorflow/compiler/xla/stream_executor/cuda/cuda_gpu_executor.cc:967] could not open file to read NUMA node: /sys/bus/pci/devices/0000:01:00.0/numa_node\n",
      "Your kernel may have been built without NUMA support.\n",
      "2023-09-26 14:26:16.433185: I tensorflow/core/common_runtime/gpu/gpu_device.cc:1700] Could not identify NUMA node of platform GPU id 0, defaulting to 0.  Your kernel may not have been built with NUMA support.\n",
      "2023-09-26 14:26:16.433214: I tensorflow/compiler/xla/stream_executor/cuda/cuda_gpu_executor.cc:967] could not open file to read NUMA node: /sys/bus/pci/devices/0000:01:00.0/numa_node\n",
      "Your kernel may have been built without NUMA support.\n",
      "2023-09-26 14:26:16.433238: I tensorflow/core/common_runtime/gpu/gpu_device.cc:1613] Created device /job:localhost/replica:0/task:0/device:GPU:0 with 20874 MB memory:  -> device: 0, name: NVIDIA GeForce RTX 4090, pci bus id: 0000:01:00.0, compute capability: 8.9\n"
     ]
    },
    {
     "name": "stdout",
     "output_type": "stream",
     "text": [
      "parsing\n",
      "dict_keys(['input_ids', 'labels', 'masks'])\n",
      "parsed\n",
      "loaded dataset\n"
     ]
    },
    {
     "name": "stderr",
     "output_type": "stream",
     "text": [
      "/home/larkinan/miniconda3/envs/tf/lib/python3.9/site-packages/tensorflow/python/data/ops/dataset_ops.py:1990: UserWarning: The `deterministic` argument has no effect unless the `num_parallel_calls` argument is specified.\n",
      "  warnings.warn(\"The `deterministic` argument has no effect unless the \"\n"
     ]
    }
   ],
   "source": [
    "TRAIN_DATA_FOLDER = \"/mnt/h/Aspire/BERT/place/train/\"\n",
    "TEST_DATA_FOLDER = '/mnt/h/Aspire/BERT/place/test/'\n",
    "print(\"Num GPUs Available: \", len(tf.config.list_physical_devices('GPU')))\n",
    "print(tf.config.list_physical_devices('GPU'))\n",
    "AUTOTUNE = tf.data.experimental.AUTOTUNE\n",
    "TRAIN_BATCH_SIZE = 128\n",
    "VAL_BATCH_SIZE = 128\n",
    "#trainData = loadDataset(DATA_FOLDER)\n",
    "testData = loadDataset(TEST_DATA_FOLDER)"
   ]
  },
  {
   "cell_type": "code",
   "execution_count": 4,
   "id": "bd67df8e",
   "metadata": {},
   "outputs": [],
   "source": [
    "def getLabels():\n",
    "    labelSet = []\n",
    "    for images, labels in testData.take(1000):\n",
    "        if(len(labelSet)==0):\n",
    "            labelSet = labels.numpy()\n",
    "        else:\n",
    "            labelSet = np.concatenate((labelSet,labels))\n",
    "    print(labelSet.shape)\n",
    "    return(labelSet)"
   ]
  },
  {
   "cell_type": "code",
   "execution_count": 5,
   "id": "619329d9",
   "metadata": {},
   "outputs": [],
   "source": [
    "def buildClassifictionModel(weightFile,debug=False):\n",
    "    MAX_SEQ_LEN = 100\n",
    "    #baseModel = build_base()\n",
    "    #baseModel.load_weights(weightFile)\n",
    "    t_i = tf.keras.layers.Input((MAX_SEQ_LEN), dtype=tf.int32, name='input_ids')\n",
    "    m_i = tf.keras.layers.Input((MAX_SEQ_LEN,), dtype=tf.int32, name='atttention_mask')\n",
    "    btok = TFBertModel.from_pretrained(\"/mnt/h/Aspire/BERT/testSaveBERT\")#([t_i,m_i])\n",
    "\n",
    "    # for w in btok.bert.weights:\n",
    "    #     if(w.name in ['tf_bert_model/bert/pooler/dense/kernel:0', 'tf_bert_model/bert/pooler/dense/bias:0']):\n",
    "    #         #print(\"weights can be trained\")\n",
    "    #         w._trainable = True\n",
    "    #     else:\n",
    "    #         #print(\"weights should be frozen\")\n",
    "    #         w._trainable=False\n",
    "    # if(debug):\n",
    "    #     for w in btok.bert.weights:\n",
    "    #         print(\"%s is %s\" %(w.name,w._trainable))\n",
    "\n",
    "\n",
    "\n",
    "    a = btok([t_i,m_i])\n",
    "    a = tf.keras.layers.Dropout(0.25)((a['pooler_output']))\n",
    "    activation = tf.keras.layers.Dense(132,activation='relu',name='activate1')(a)\n",
    "    activation = tf.keras.layers.Dropout(0.25)(activation)\n",
    "    activation = tf.keras.layers.Dense(132,activation='relu',name='activate1')(a)\n",
    "    activation = tf.keras.layers.Dropout(0.25)(activation)\n",
    "    #activation = tf.keras.layers.Dense(6,activation='softmax',name='categorical')(a['pooler_output'])\n",
    "    activation = tf.keras.layers.Dense(6,activation='softmax',name='categorical')(activation)\n",
    "    #activation = tf.keras.layers.Dense(1,activation='softmax')\n",
    "    bm2 = tf.keras.Model(inputs = [t_i,m_i],outputs = activation)\n",
    "    \n",
    "    return(bm2)"
   ]
  },
  {
   "cell_type": "code",
   "execution_count": null,
   "id": "f3371047",
   "metadata": {},
   "outputs": [],
   "source": []
  },
  {
   "cell_type": "code",
   "execution_count": 6,
   "id": "1f86d485",
   "metadata": {},
   "outputs": [
    {
     "name": "stderr",
     "output_type": "stream",
     "text": [
      "Model config BertConfig {\n",
      "  \"_name_or_path\": \"/mnt/h/Aspire/BERT/testSaveBERT\",\n",
      "  \"architectures\": [\n",
      "    \"BertForMaskedLM\"\n",
      "  ],\n",
      "  \"attention_probs_dropout_prob\": 0.1,\n",
      "  \"classifier_dropout\": null,\n",
      "  \"gradient_checkpointing\": false,\n",
      "  \"hidden_act\": \"gelu\",\n",
      "  \"hidden_dropout_prob\": 0.1,\n",
      "  \"hidden_size\": 768,\n",
      "  \"initializer_range\": 0.02,\n",
      "  \"intermediate_size\": 3072,\n",
      "  \"layer_norm_eps\": 1e-12,\n",
      "  \"max_position_embeddings\": 512,\n",
      "  \"model_type\": \"bert\",\n",
      "  \"num_attention_heads\": 12,\n",
      "  \"num_hidden_layers\": 12,\n",
      "  \"pad_token_id\": 0,\n",
      "  \"position_embedding_type\": \"absolute\",\n",
      "  \"transformers_version\": \"4.28.1\",\n",
      "  \"type_vocab_size\": 2,\n",
      "  \"use_cache\": true,\n",
      "  \"vocab_size\": 30623\n",
      "}\n",
      "\n"
     ]
    }
   ],
   "source": [
    "#modelFile = '/mnt/h/Aspire/BERT/child/checkpiont_3layers/age_model_checkpoint.h5'\n",
    "modelFile = '/mnt/h/Aspire/BERT/place/place_model_checkpoint.h5'\n",
    "final_BERT = tf.keras.models.load_model(modelFile,custom_objects={\"TFBertModel\": transformers.TFBertModel})\n",
    "final_BERT.compile(loss=[tf.keras.losses.BinaryCrossentropy()],optimizer=tf.keras.optimizers.Adam(learning_rate=0.0001),metrics=['accuracy'])"
   ]
  },
  {
   "cell_type": "code",
   "execution_count": 7,
   "id": "8f4aaa6a",
   "metadata": {},
   "outputs": [
    {
     "name": "stdout",
     "output_type": "stream",
     "text": [
      "4/4 [==============================] - 1s 35ms/step\n"
     ]
    },
    {
     "name": "stderr",
     "output_type": "stream",
     "text": [
      "2023-09-26 14:26:23.556478: I tensorflow/compiler/xla/stream_executor/cuda/cuda_blas.cc:630] TensorFloat-32 will be used for the matrix multiplication. This will only be logged once.\n"
     ]
    },
    {
     "name": "stdout",
     "output_type": "stream",
     "text": [
      "4/4 [==============================] - 0s 36ms/step\n",
      "4/4 [==============================] - 0s 21ms/step\n",
      "4/4 [==============================] - 0s 20ms/step\n",
      "4/4 [==============================] - 0s 20ms/step\n",
      "4/4 [==============================] - 0s 22ms/step\n",
      "4/4 [==============================] - 0s 18ms/step\n",
      "4/4 [==============================] - 0s 18ms/step\n",
      "4/4 [==============================] - 0s 18ms/step\n",
      "4/4 [==============================] - 0s 18ms/step\n",
      "4/4 [==============================] - 0s 18ms/step\n",
      "4/4 [==============================] - 0s 18ms/step\n",
      "4/4 [==============================] - 0s 18ms/step\n",
      "4/4 [==============================] - 0s 18ms/step\n",
      "4/4 [==============================] - 0s 18ms/step\n",
      "4/4 [==============================] - 0s 18ms/step\n",
      "4/4 [==============================] - 0s 18ms/step\n",
      "4/4 [==============================] - 0s 18ms/step\n",
      "4/4 [==============================] - 0s 18ms/step\n",
      "4/4 [==============================] - 0s 19ms/step\n",
      "4/4 [==============================] - 0s 19ms/step\n",
      "4/4 [==============================] - 0s 18ms/step\n",
      "4/4 [==============================] - 0s 18ms/step\n",
      "4/4 [==============================] - 0s 18ms/step\n",
      "4/4 [==============================] - 0s 18ms/step\n",
      "4/4 [==============================] - 0s 18ms/step\n",
      "4/4 [==============================] - 0s 21ms/step\n",
      "4/4 [==============================] - 0s 22ms/step\n",
      "4/4 [==============================] - 0s 18ms/step\n",
      "4/4 [==============================] - 0s 18ms/step\n",
      "4/4 [==============================] - 0s 18ms/step\n",
      "4/4 [==============================] - 0s 18ms/step\n",
      "4/4 [==============================] - 0s 16ms/step\n",
      "4/4 [==============================] - 0s 19ms/step\n",
      "4/4 [==============================] - 0s 18ms/step\n",
      "4/4 [==============================] - 0s 19ms/step\n",
      "4/4 [==============================] - 0s 22ms/step\n",
      "4/4 [==============================] - 0s 19ms/step\n",
      "4/4 [==============================] - 0s 18ms/step\n",
      "1/1 [==============================] - 1s 1s/step\n"
     ]
    }
   ],
   "source": [
    "#BERT_pred = final_BERT.predict(testData)\n",
    "def getPredictions(dataset,model):\n",
    "    labelSet,predictions = [],[]\n",
    "    for text, labels in testData.take(1000):\n",
    "        pred = model.predict(text)\n",
    "        if(len(labelSet)==0):\n",
    "            labelSet = labels.numpy()\n",
    "            predictions = pred\n",
    "        else:\n",
    "            labelSet = np.concatenate((labelSet,labels))\n",
    "            predictions = np.concatenate((predictions,pred))\n",
    "    return([labelSet,predictions])\n",
    "labels,predictions = getPredictions(testData,final_BERT)"
   ]
  },
  {
   "cell_type": "code",
   "execution_count": 8,
   "id": "b01c2385",
   "metadata": {},
   "outputs": [
    {
     "name": "stdout",
     "output_type": "stream",
     "text": [
      "tf.Tensor(\n",
      "[[1.53472371e-04 2.01094002e-02 3.81221715e-03 1.19592564e-03\n",
      "  3.68692949e-02 3.05096316e-03 9.76612389e-01]\n",
      " [6.70108199e-03 1.36743365e-02 2.50349827e-02 1.63421202e-02\n",
      "  1.97404593e-01 5.92333555e-01 1.31166428e-01]], shape=(2, 7), dtype=float32)\n",
      "tf.Tensor(\n",
      "[[0. 0. 0. 0. 0. 1. 0.]\n",
      " [0. 0. 0. 0. 0. 0. 0.]\n",
      " [0. 0. 0. 0. 0. 0. 0.]\n",
      " [0. 0. 0. 0. 0. 0. 0.]\n",
      " [0. 0. 1. 0. 0. 1. 0.]\n",
      " [0. 0. 0. 0. 0. 0. 0.]\n",
      " [0. 0. 0. 1. 0. 1. 0.]\n",
      " [0. 0. 0. 0. 0. 0. 0.]\n",
      " [0. 0. 0. 0. 0. 0. 1.]\n",
      " [0. 0. 0. 0. 0. 1. 0.]\n",
      " [0. 0. 0. 0. 0. 1. 0.]\n",
      " [0. 0. 0. 0. 0. 0. 0.]\n",
      " [0. 0. 0. 0. 0. 0. 0.]\n",
      " [0. 0. 0. 0. 0. 0. 0.]\n",
      " [0. 0. 0. 0. 0. 0. 0.]\n",
      " [0. 0. 1. 0. 0. 1. 0.]\n",
      " [0. 0. 1. 0. 0. 0. 1.]\n",
      " [0. 0. 0. 0. 0. 0. 1.]\n",
      " [0. 0. 0. 0. 0. 0. 0.]\n",
      " [0. 0. 0. 0. 0. 0. 0.]\n",
      " [0. 0. 0. 0. 0. 1. 0.]\n",
      " [0. 0. 0. 0. 0. 0. 0.]\n",
      " [0. 0. 0. 0. 0. 0. 0.]\n",
      " [0. 0. 0. 0. 0. 1. 0.]\n",
      " [0. 0. 0. 0. 0. 0. 1.]\n",
      " [1. 0. 0. 0. 0. 1. 0.]\n",
      " [0. 0. 0. 0. 0. 0. 0.]\n",
      " [0. 0. 0. 0. 0. 0. 0.]\n",
      " [0. 0. 0. 0. 0. 0. 0.]\n",
      " [0. 0. 0. 0. 0. 0. 0.]\n",
      " [0. 0. 0. 0. 0. 0. 1.]\n",
      " [0. 0. 0. 1. 0. 1. 0.]\n",
      " [0. 0. 0. 0. 0. 0. 1.]\n",
      " [0. 0. 1. 0. 0. 1. 0.]\n",
      " [0. 0. 0. 0. 0. 0. 0.]\n",
      " [0. 0. 0. 0. 0. 0. 0.]\n",
      " [0. 0. 0. 0. 0. 0. 0.]\n",
      " [0. 0. 0. 0. 0. 0. 0.]\n",
      " [0. 0. 0. 0. 0. 0. 1.]\n",
      " [0. 0. 0. 0. 0. 0. 0.]\n",
      " [0. 0. 0. 0. 0. 0. 0.]\n",
      " [0. 0. 0. 0. 0. 0. 0.]\n",
      " [0. 1. 0. 0. 0. 0. 1.]\n",
      " [0. 0. 0. 0. 0. 0. 0.]\n",
      " [0. 0. 1. 0. 0. 0. 1.]\n",
      " [0. 0. 0. 0. 0. 0. 0.]\n",
      " [0. 0. 0. 0. 0. 0. 0.]\n",
      " [0. 0. 0. 0. 1. 0. 1.]\n",
      " [0. 0. 0. 0. 0. 0. 0.]\n",
      " [0. 0. 0. 0. 0. 0. 0.]], shape=(50, 7), dtype=float32)\n",
      "(5000, 7)\n"
     ]
    }
   ],
   "source": [
    "print(tf.sigmoid(predictions[8:10]))\n",
    "predictions2 = tf.round(tf.nn.sigmoid(predictions))\n",
    "print(predictions2[0:50])\n",
    "print(predictions2.shape)"
   ]
  },
  {
   "cell_type": "code",
   "execution_count": 9,
   "id": "cfbd722c",
   "metadata": {},
   "outputs": [
    {
     "data": {
      "text/plain": [
       "(array([  82.,  123.,  508.,  374.,   40., 1239.,  539.]),\n",
       " array([51.57232704, 61.80904523, 73.41040462, 66.78571429, 35.71428571,\n",
       "        73.88193202, 66.70792079]))"
      ]
     },
     "execution_count": 9,
     "metadata": {},
     "output_type": "execute_result"
    }
   ],
   "source": [
    "def calcTruePositive(labels,predictions):\n",
    "    predictionsRound = tf.round(tf.nn.sigmoid(predictions))\n",
    "    correct = np.multiply(labels,predictionsRound)\n",
    "    nCorrect = np.sum(correct,axis=0)\n",
    "    percCorrect = nCorrect/np.sum(labels,axis=0)*100\n",
    "    return(nCorrect,percCorrect)\n",
    "calcTruePositive(labels,predictions)"
   ]
  },
  {
   "cell_type": "code",
   "execution_count": 10,
   "id": "95eb875e",
   "metadata": {},
   "outputs": [
    {
     "data": {
      "text/plain": [
       "(array([4797, 4764, 4094, 4273, 4865, 2835, 3966]),\n",
       " array([99.09109688, 99.22932722, 95.03249768, 96.23873874, 99.5294599 ,\n",
       "        85.31447487, 94.60877863]))"
      ]
     },
     "execution_count": 10,
     "metadata": {},
     "output_type": "execute_result"
    }
   ],
   "source": [
    "def calcTrueNegative(labels,predictions):\n",
    "    predictionsRound = tf.round(tf.nn.sigmoid(predictions))\n",
    "    labZeros = np.where(labels==0,1,0)\n",
    "    predZeros = np.where(predictionsRound==0,1,0)\n",
    "    correct = np.multiply(labZeros,predZeros)\n",
    "    nCorrect = np.sum(correct,axis=0)\n",
    "    percCorrect = nCorrect/np.sum(labZeros,axis=0)*100\n",
    "    return(nCorrect,percCorrect)\n",
    "calcTrueNegative(labels,predictions)"
   ]
  },
  {
   "cell_type": "code",
   "execution_count": 11,
   "id": "0662a9f2",
   "metadata": {},
   "outputs": [
    {
     "data": {
      "text/plain": [
       "(array([ 77,  76, 184, 186,  72, 438, 269]),\n",
       " array([48.42767296, 38.19095477, 26.58959538, 33.21428571, 64.28571429,\n",
       "        26.11806798, 33.29207921]))"
      ]
     },
     "execution_count": 11,
     "metadata": {},
     "output_type": "execute_result"
    }
   ],
   "source": [
    "def calcFalseNegative(labels,predictions):\n",
    "    predictionsRound = tf.round(tf.nn.sigmoid(predictions))\n",
    "    predZeros = np.where(predictionsRound==0,1,0)\n",
    "    correct = np.multiply(labels,predZeros)\n",
    "    nCorrect = np.sum(correct,axis=0)\n",
    "    percCorrect = nCorrect/np.sum(labels,axis=0)*100\n",
    "    return(nCorrect,percCorrect)\n",
    "calcFalseNegative(labels,predictions)"
   ]
  },
  {
   "cell_type": "code",
   "execution_count": 12,
   "id": "e7f413d9",
   "metadata": {},
   "outputs": [
    {
     "name": "stdout",
     "output_type": "stream",
     "text": [
      "[ 44.  37. 214. 167.  23. 488. 226.]\n"
     ]
    },
    {
     "data": {
      "text/plain": [
       "(array([ 44.,  37., 214., 167.,  23., 488., 226.]),\n",
       " array([27.67295597, 18.59296482, 30.92485549, 29.82142857, 20.53571429,\n",
       "        29.09958259, 27.97029703]))"
      ]
     },
     "execution_count": 12,
     "metadata": {},
     "output_type": "execute_result"
    }
   ],
   "source": [
    "def calcFalsePositive(labels,predictions):\n",
    "    predictionsRound = tf.round(tf.nn.sigmoid(predictions))\n",
    "    labZeros = np.where(labels==0,1,0)\n",
    "    correct = np.multiply(labZeros,predictionsRound)\n",
    "    nCorrect = np.sum(correct,axis=0)\n",
    "    print(nCorrect)\n",
    "    percCorrect = nCorrect/np.sum(labels,axis=0)*100\n",
    "    return(nCorrect,percCorrect)\n",
    "calcFalsePositive(labels,predictions)"
   ]
  },
  {
   "cell_type": "code",
   "execution_count": 26,
   "id": "6a79f0e1",
   "metadata": {},
   "outputs": [
    {
     "name": "stdout",
     "output_type": "stream",
     "text": [
      "82412\n",
      "82412\n",
      "277\n"
     ]
    }
   ],
   "source": [
    "labeledData = ps.read_csv(\"/mnt/h/Aspire/BERT/child/childTweetsStrict.csv\",encoding='utf-8',lineterminator='\\n')\n",
    "#labeledData.head()\n",
    "testData = labeledData[labeledData['test']==1]\n",
    "trainData = labeledData[labeledData['test']==0]\n",
    "trainData = trainData.sample(frac=1)\n",
    "print(trainData.count()[0])\n",
    "#print(trainData.tail())\n",
    "trainData = trainData.drop_duplicates()\n",
    "trainData = trainData.sample(frac=1)\n",
    "print(trainData.count()[0])\n",
    "print(sum(trainData['isChild'][-1000:]==1))"
   ]
  },
  {
   "cell_type": "code",
   "execution_count": 27,
   "id": "fc5ea57a",
   "metadata": {},
   "outputs": [
    {
     "name": "stdout",
     "output_type": "stream",
     "text": [
      "tf.Tensor(\n",
      "[[0. 0. 0. 0. 0. 0.]\n",
      " [0. 0. 0. 0. 0. 0.]\n",
      " [0. 0. 0. 0. 0. 1.]\n",
      " [0. 0. 0. 0. 0. 0.]\n",
      " [0. 1. 0. 0. 0. 1.]\n",
      " [0. 0. 0. 0. 0. 0.]\n",
      " [0. 0. 0. 0. 0. 0.]\n",
      " [1. 0. 0. 0. 0. 1.]\n",
      " [0. 1. 0. 0. 0. 1.]\n",
      " [0. 0. 0. 0. 0. 0.]], shape=(10, 6), dtype=float32)\n"
     ]
    }
   ],
   "source": [
    "print(tf.round(tf.nn.sigmoid(predictions[0:10])))"
   ]
  },
  {
   "cell_type": "code",
   "execution_count": 28,
   "id": "22033223",
   "metadata": {},
   "outputs": [],
   "source": [
    "def mapNewLineReplace(origLine):\n",
    "    newLine = origLine.replace(\"\\n\",\". \")\n",
    "    return(newLine)"
   ]
  },
  {
   "cell_type": "code",
   "execution_count": 29,
   "id": "8e6e54be",
   "metadata": {},
   "outputs": [],
   "source": [
    "def setupModelInputs(tweetData,debug=False):\n",
    "    tweetText = list(tweetData['text'])\n",
    "    tweetText = list(map(mapNewLineReplace,tweetText))\n",
    "    inputs = TOKEN(tweetText,max_length=100,truncation=True,padding='max_length',return_tensors=\"tf\")\n",
    "    inp_ids = tf.convert_to_tensor(inputs['input_ids'])\n",
    "    inputs['input_ids'] = inp_ids\n",
    "    return(inputs)"
   ]
  },
  {
   "cell_type": "code",
   "execution_count": 32,
   "id": "bcbac5ad",
   "metadata": {},
   "outputs": [
    {
     "name": "stderr",
     "output_type": "stream",
     "text": [
      "loading file vocab.txt\n",
      "loading file added_tokens.json\n",
      "loading file special_tokens_map.json\n",
      "loading file tokenizer_config.json\n",
      "Adding 😂 to the vocabulary\n",
      "Adding ❤ to the vocabulary\n",
      "Adding 😭 to the vocabulary\n",
      "Adding 😍 to the vocabulary\n",
      "Adding 🎉 to the vocabulary\n",
      "Adding 😊 to the vocabulary\n",
      "Adding 😘 to the vocabulary\n",
      "Adding 😩 to the vocabulary\n",
      "Adding 💕 to the vocabulary\n",
      "Adding 🏽 to the vocabulary\n",
      "Adding 🏼 to the vocabulary\n",
      "Adding 🏾 to the vocabulary\n",
      "Adding 💯 to the vocabulary\n",
      "Adding 🔥 to the vocabulary\n",
      "Adding 🏻 to the vocabulary\n",
      "Adding 🙏 to the vocabulary\n",
      "Adding 🙌 to the vocabulary\n",
      "Adding 🤣 to the vocabulary\n",
      "Adding 😒 to the vocabulary\n",
      "Adding 💙 to the vocabulary\n",
      "Adding ♀ to the vocabulary\n",
      "Adding 🙄 to the vocabulary\n",
      "Adding 😁 to the vocabulary\n",
      "Adding 👏 to the vocabulary\n",
      "Adding ☺ to the vocabulary\n",
      "Adding 💀 to the vocabulary\n",
      "Adding 👌 to the vocabulary\n",
      "Adding 🎈 to the vocabulary\n",
      "Adding 💜 to the vocabulary\n",
      "Adding 💗 to the vocabulary\n",
      "Adding 😅 to the vocabulary\n",
      "Adding 💖 to the vocabulary\n",
      "Adding 🤔 to the vocabulary\n",
      "Adding 😎 to the vocabulary\n",
      "Adding ♂ to the vocabulary\n",
      "Adding 😔 to the vocabulary\n",
      "Adding 🤦 to the vocabulary\n",
      "Adding 🙃 to the vocabulary\n",
      "Adding 👍 to the vocabulary\n",
      "Adding 🤷 to the vocabulary\n",
      "Adding ✨ to the vocabulary\n",
      "Adding 😏 to the vocabulary\n",
      "Adding 🎶 to the vocabulary\n",
      "Adding 🎂 to the vocabulary\n",
      "Adding 💪 to the vocabulary\n",
      "Adding 💛 to the vocabulary\n",
      "Adding 😌 to the vocabulary\n",
      "Adding 🎊 to the vocabulary\n",
      "Adding 😳 to the vocabulary\n",
      "Adding 👀 to the vocabulary\n",
      "Adding 😉 to the vocabulary\n",
      "Adding 😢 to the vocabulary\n",
      "Adding ‼ to the vocabulary\n",
      "Adding 😋 to the vocabulary\n",
      "Adding 💔 to the vocabulary\n",
      "Adding 💘 to the vocabulary\n",
      "Adding ✌ to the vocabulary\n",
      "Adding 😈 to the vocabulary\n",
      "Adding 😴 to the vocabulary\n",
      "Adding 🥰 to the vocabulary\n",
      "Adding 💋 to the vocabulary\n",
      "Adding 💞 to the vocabulary\n",
      "Adding 🤗 to the vocabulary\n",
      "Adding 🥺 to the vocabulary\n",
      "Adding 💚 to the vocabulary\n",
      "Adding 🎁 to the vocabulary\n",
      "Adding ✊ to the vocabulary\n",
      "Adding 😑 to the vocabulary\n",
      "Adding 😫 to the vocabulary\n",
      "Adding 😜 to the vocabulary\n",
      "Adding 💁 to the vocabulary\n",
      "Adding 💓 to the vocabulary\n",
      "Adding 😡 to the vocabulary\n",
      "Adding 😐 to the vocabulary\n",
      "Adding 🤘 to the vocabulary\n",
      "Adding 😕 to the vocabulary\n",
      "Adding 😤 to the vocabulary\n",
      "Adding ☀ to the vocabulary\n",
      "Adding 😄 to the vocabulary\n",
      "Adding 😛 to the vocabulary\n",
      "Adding 🙈 to the vocabulary\n",
      "Adding 😞 to the vocabulary\n",
      "Adding 😻 to the vocabulary\n",
      "Adding 🍻 to the vocabulary\n",
      "Adding 🏀 to the vocabulary\n",
      "Adding 😬 to the vocabulary\n",
      "Adding 😇 to the vocabulary\n",
      "Adding 🖤 to the vocabulary\n",
      "Adding 😪 to the vocabulary\n",
      "Adding 🏈 to the vocabulary\n",
      "Adding 🙂 to the vocabulary\n",
      "Adding 👑 to the vocabulary\n",
      "Adding 💃 to the vocabulary\n",
      "Adding 😆 to the vocabulary\n",
      "Adding 🚨 to the vocabulary\n",
      "Adding 👊 to the vocabulary\n",
      "Adding 😀 to the vocabulary\n",
      "Adding 😃 to the vocabulary\n",
      "Adding 😝 to the vocabulary\n",
      "Adding 🥳 to the vocabulary\n",
      "Adding 😷 to the vocabulary\n"
     ]
    },
    {
     "name": "stdout",
     "output_type": "stream",
     "text": [
      "157/157 [==============================] - 6s 37ms/step\n"
     ]
    }
   ],
   "source": [
    "TOKEN = BertTokenizer.from_pretrained('expandedTokenBase')\n",
    "tweetData = testData\n",
    "modelInputs = setupModelInputs(tweetData)\n",
    "preds = final_BERT.predict([modelInputs['input_ids'],modelInputs['attention_mask']])\n",
    "#predictions2 = tf.round(tf.nn.sigmoid(preds))\n",
    "np.save('/mnt/h/Aspire/BERT/child/test/testPredStrict.npy',tf.nn.sigmoid(preds))\n",
    "testData.to_csv(\"/mnt/h/Aspire/BERT/child/test/testDataStrict.csv\",encoding='utf-8',index=False)"
   ]
  },
  {
   "cell_type": "code",
   "execution_count": 33,
   "id": "964d823c",
   "metadata": {},
   "outputs": [
    {
     "name": "stderr",
     "output_type": "stream",
     "text": [
      "loading file vocab.txt\n",
      "loading file added_tokens.json\n",
      "loading file special_tokens_map.json\n",
      "loading file tokenizer_config.json\n",
      "Adding 😂 to the vocabulary\n",
      "Adding ❤ to the vocabulary\n",
      "Adding 😭 to the vocabulary\n",
      "Adding 😍 to the vocabulary\n",
      "Adding 🎉 to the vocabulary\n",
      "Adding 😊 to the vocabulary\n",
      "Adding 😘 to the vocabulary\n",
      "Adding 😩 to the vocabulary\n",
      "Adding 💕 to the vocabulary\n",
      "Adding 🏽 to the vocabulary\n",
      "Adding 🏼 to the vocabulary\n",
      "Adding 🏾 to the vocabulary\n",
      "Adding 💯 to the vocabulary\n",
      "Adding 🔥 to the vocabulary\n",
      "Adding 🏻 to the vocabulary\n",
      "Adding 🙏 to the vocabulary\n",
      "Adding 🙌 to the vocabulary\n",
      "Adding 🤣 to the vocabulary\n",
      "Adding 😒 to the vocabulary\n",
      "Adding 💙 to the vocabulary\n",
      "Adding ♀ to the vocabulary\n",
      "Adding 🙄 to the vocabulary\n",
      "Adding 😁 to the vocabulary\n",
      "Adding 👏 to the vocabulary\n",
      "Adding ☺ to the vocabulary\n",
      "Adding 💀 to the vocabulary\n",
      "Adding 👌 to the vocabulary\n",
      "Adding 🎈 to the vocabulary\n",
      "Adding 💜 to the vocabulary\n",
      "Adding 💗 to the vocabulary\n",
      "Adding 😅 to the vocabulary\n",
      "Adding 💖 to the vocabulary\n",
      "Adding 🤔 to the vocabulary\n",
      "Adding 😎 to the vocabulary\n",
      "Adding ♂ to the vocabulary\n",
      "Adding 😔 to the vocabulary\n",
      "Adding 🤦 to the vocabulary\n",
      "Adding 🙃 to the vocabulary\n",
      "Adding 👍 to the vocabulary\n",
      "Adding 🤷 to the vocabulary\n",
      "Adding ✨ to the vocabulary\n",
      "Adding 😏 to the vocabulary\n",
      "Adding 🎶 to the vocabulary\n",
      "Adding 🎂 to the vocabulary\n",
      "Adding 💪 to the vocabulary\n",
      "Adding 💛 to the vocabulary\n",
      "Adding 😌 to the vocabulary\n",
      "Adding 🎊 to the vocabulary\n",
      "Adding 😳 to the vocabulary\n",
      "Adding 👀 to the vocabulary\n",
      "Adding 😉 to the vocabulary\n",
      "Adding 😢 to the vocabulary\n",
      "Adding ‼ to the vocabulary\n",
      "Adding 😋 to the vocabulary\n",
      "Adding 💔 to the vocabulary\n",
      "Adding 💘 to the vocabulary\n",
      "Adding ✌ to the vocabulary\n",
      "Adding 😈 to the vocabulary\n",
      "Adding 😴 to the vocabulary\n",
      "Adding 🥰 to the vocabulary\n",
      "Adding 💋 to the vocabulary\n",
      "Adding 💞 to the vocabulary\n",
      "Adding 🤗 to the vocabulary\n",
      "Adding 🥺 to the vocabulary\n",
      "Adding 💚 to the vocabulary\n",
      "Adding 🎁 to the vocabulary\n",
      "Adding ✊ to the vocabulary\n",
      "Adding 😑 to the vocabulary\n",
      "Adding 😫 to the vocabulary\n",
      "Adding 😜 to the vocabulary\n",
      "Adding 💁 to the vocabulary\n",
      "Adding 💓 to the vocabulary\n",
      "Adding 😡 to the vocabulary\n",
      "Adding 😐 to the vocabulary\n",
      "Adding 🤘 to the vocabulary\n",
      "Adding 😕 to the vocabulary\n",
      "Adding 😤 to the vocabulary\n",
      "Adding ☀ to the vocabulary\n",
      "Adding 😄 to the vocabulary\n",
      "Adding 😛 to the vocabulary\n",
      "Adding 🙈 to the vocabulary\n",
      "Adding 😞 to the vocabulary\n",
      "Adding 😻 to the vocabulary\n",
      "Adding 🍻 to the vocabulary\n",
      "Adding 🏀 to the vocabulary\n",
      "Adding 😬 to the vocabulary\n",
      "Adding 😇 to the vocabulary\n",
      "Adding 🖤 to the vocabulary\n",
      "Adding 😪 to the vocabulary\n",
      "Adding 🏈 to the vocabulary\n",
      "Adding 🙂 to the vocabulary\n",
      "Adding 👑 to the vocabulary\n",
      "Adding 💃 to the vocabulary\n",
      "Adding 😆 to the vocabulary\n",
      "Adding 🚨 to the vocabulary\n",
      "Adding 👊 to the vocabulary\n",
      "Adding 😀 to the vocabulary\n",
      "Adding 😃 to the vocabulary\n",
      "Adding 😝 to the vocabulary\n",
      "Adding 🥳 to the vocabulary\n",
      "Adding 😷 to the vocabulary\n"
     ]
    },
    {
     "name": "stdout",
     "output_type": "stream",
     "text": [
      "2576/2576 [==============================] - 92s 36ms/step\n"
     ]
    }
   ],
   "source": [
    "TOKEN = BertTokenizer.from_pretrained('expandedTokenBase')\n",
    "tweetData = trainData\n",
    "modelInputs = setupModelInputs(tweetData)\n",
    "preds = final_BERT.predict([modelInputs['input_ids'],modelInputs['attention_mask']])\n",
    "predictions2 = tf.round(tf.nn.sigmoid(preds))\n",
    "np.save('/mnt/h/Aspire/BERT/child/train/trainPredStrict.npy',tf.nn.sigmoid(preds))\n",
    "trainData.to_csv(\"/mnt/h/Aspire/BERT/child/train/trainDataStrict.csv\",encoding='utf-8',index=False)"
   ]
  },
  {
   "cell_type": "code",
   "execution_count": null,
   "id": "df99acdb",
   "metadata": {},
   "outputs": [],
   "source": [
    "print(tf.round(predictions2[4990:5000]))"
   ]
  },
  {
   "cell_type": "code",
   "execution_count": null,
   "id": "c6639cb5",
   "metadata": {},
   "outputs": [],
   "source": [
    "print(sum(trainData['isChild']))"
   ]
  }
 ],
 "metadata": {
  "kernelspec": {
   "display_name": "Python 3 (ipykernel)",
   "language": "python",
   "name": "python3"
  },
  "language_info": {
   "codemirror_mode": {
    "name": "ipython",
    "version": 3
   },
   "file_extension": ".py",
   "mimetype": "text/x-python",
   "name": "python",
   "nbconvert_exporter": "python",
   "pygments_lexer": "ipython3",
   "version": "3.9.16"
  }
 },
 "nbformat": 4,
 "nbformat_minor": 5
}
