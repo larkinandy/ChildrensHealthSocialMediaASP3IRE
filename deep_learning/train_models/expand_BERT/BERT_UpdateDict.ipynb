{
 "cells": [
  {
   "cell_type": "code",
   "execution_count": 1,
   "id": "d305bba8",
   "metadata": {},
   "outputs": [
    {
     "name": "stderr",
     "output_type": "stream",
     "text": [
      "2023-04-20 19:07:29.536041: I tensorflow/core/platform/cpu_feature_guard.cc:193] This TensorFlow binary is optimized with oneAPI Deep Neural Network Library (oneDNN) to use the following CPU instructions in performance-critical operations:  AVX2 AVX512F AVX512_VNNI AVX512_BF16 FMA\n",
      "To enable them in other operations, rebuild TensorFlow with the appropriate compiler flags.\n",
      "2023-04-20 19:07:29.628268: I tensorflow/core/util/port.cc:104] oneDNN custom operations are on. You may see slightly different numerical results due to floating-point round-off errors from different computation orders. To turn them off, set the environment variable `TF_ENABLE_ONEDNN_OPTS=0`.\n",
      "2023-04-20 19:07:30.078812: W tensorflow/compiler/xla/stream_executor/platform/default/dso_loader.cc:64] Could not load dynamic library 'libnvinfer.so.7'; dlerror: libnvinfer.so.7: cannot open shared object file: No such file or directory; LD_LIBRARY_PATH: :/home/larkinan/miniconda3/envs/tf/lib/:/home/larkinan/miniconda3/envs/tf/lib/python3.9/site-packages/nvidia/cudnn/lib\n",
      "2023-04-20 19:07:30.081019: W tensorflow/compiler/xla/stream_executor/platform/default/dso_loader.cc:64] Could not load dynamic library 'libnvinfer_plugin.so.7'; dlerror: libnvinfer_plugin.so.7: cannot open shared object file: No such file or directory; LD_LIBRARY_PATH: :/home/larkinan/miniconda3/envs/tf/lib/:/home/larkinan/miniconda3/envs/tf/lib/python3.9/site-packages/nvidia/cudnn/lib\n",
      "2023-04-20 19:07:30.081028: W tensorflow/compiler/tf2tensorrt/utils/py_utils.cc:38] TF-TRT Warning: Cannot dlopen some TensorRT libraries. If you would like to use Nvidia GPU with TensorRT, please make sure the missing libraries mentioned above are installed properly.\n",
      "/home/larkinan/miniconda3/envs/tf/lib/python3.9/site-packages/transformers/generation_utils.py:24: FutureWarning: Importing `GenerationMixin` from `src/transformers/generation_utils.py` is deprecated and will be removed in Transformers v5. Import as `from transformers import GenerationMixin` instead.\n",
      "  warnings.warn(\n",
      "/home/larkinan/miniconda3/envs/tf/lib/python3.9/site-packages/transformers/generation_tf_utils.py:24: FutureWarning: Importing `TFGenerationMixin` from `src/transformers/generation_tf_utils.py` is deprecated and will be removed in Transformers v5. Import as `from transformers import TFGenerationMixin` instead.\n",
      "  warnings.warn(\n",
      "2023-04-20 19:07:31.887981: I tensorflow/compiler/xla/stream_executor/cuda/cuda_gpu_executor.cc:967] could not open file to read NUMA node: /sys/bus/pci/devices/0000:01:00.0/numa_node\n",
      "Your kernel may have been built without NUMA support.\n",
      "2023-04-20 19:07:31.890686: I tensorflow/compiler/xla/stream_executor/cuda/cuda_gpu_executor.cc:967] could not open file to read NUMA node: /sys/bus/pci/devices/0000:01:00.0/numa_node\n",
      "Your kernel may have been built without NUMA support.\n",
      "2023-04-20 19:07:31.890707: I tensorflow/compiler/xla/stream_executor/cuda/cuda_gpu_executor.cc:967] could not open file to read NUMA node: /sys/bus/pci/devices/0000:01:00.0/numa_node\n",
      "Your kernel may have been built without NUMA support.\n"
     ]
    }
   ],
   "source": [
    "#from transformers import BertTokenizer, TFBertForMaskedLM\n",
    "from transformers import *\n",
    "import tensorflow as tf\n",
    "import os\n",
    "import numpy as np\n",
    "import re\n",
    "import matplotlib.pyplot as plt\n",
    "import spacy\n",
    "from sklearn.feature_extraction.text import TfidfVectorizer# initialize our tokenizer with the Portuguese spaCY one\n",
    "from spellchecker import SpellChecker\n",
    "import tensorflow as tf\n",
    "import tensorflow_hub as hub\n",
    "import tensorflow_text as text\n",
    "import glob"
   ]
  },
  {
   "cell_type": "code",
   "execution_count": 2,
   "id": "0ae576c7",
   "metadata": {},
   "outputs": [],
   "source": [
    "def spacy_tokenizer(document):\n",
    "    # tokenize the document with spaCY\n",
    "    doc = nlp(document)\n",
    "    # Remove stop words and punctuation symbols\n",
    "    tokens = [\n",
    "        token.text for token in doc if (\n",
    "        token.is_stop == False and \\\n",
    "        token.is_punct == False and \\\n",
    "        token.text.strip() != '' and \\\n",
    "        token.text.find(\"\\n\") == -1)]\n",
    "    return tokens"
   ]
  },
  {
   "cell_type": "code",
   "execution_count": 3,
   "id": "5da8369a",
   "metadata": {},
   "outputs": [],
   "source": [
    "def clean_text(line):\n",
    "    line = re.sub(r'-+',' ',line)\n",
    "    line = re.sub(r'[^a-zA-Z, ]+',\" \",line)\n",
    "    line = re.sub(r'[ ]+',\" \",line)\n",
    "    line += \".\"\n",
    "    return line"
   ]
  },
  {
   "cell_type": "code",
   "execution_count": 4,
   "id": "e8c4dba7",
   "metadata": {},
   "outputs": [],
   "source": [
    "def screenNewWords(tokenizer,newWords):\n",
    "    screenedList = list( filter((lambda x: check(x)==False and x not in tokenizer.vocab), newWords))\n",
    "    return screenedList"
   ]
  },
  {
   "cell_type": "code",
   "execution_count": 5,
   "id": "c52cbe31",
   "metadata": {},
   "outputs": [],
   "source": [
    "def check(word):\n",
    "    if word == spell.correction(word):\n",
    "        return True\n",
    "    else:\n",
    "        return False"
   ]
  },
  {
   "cell_type": "code",
   "execution_count": 8,
   "id": "8f4f9cb8",
   "metadata": {},
   "outputs": [
    {
     "data": {
      "text/plain": [
       "['😂',\n",
       " '❤',\n",
       " '😭',\n",
       " '😍',\n",
       " '🎉',\n",
       " '😊',\n",
       " '😘',\n",
       " '😩',\n",
       " '💕',\n",
       " '🏽',\n",
       " '🏼',\n",
       " '🏾',\n",
       " '💯',\n",
       " '🔥',\n",
       " '🏻',\n",
       " '🙏',\n",
       " '🙌',\n",
       " '🤣',\n",
       " '😒',\n",
       " '💙',\n",
       " '♀',\n",
       " '🙄',\n",
       " '😁',\n",
       " '👏',\n",
       " '☺',\n",
       " '💀',\n",
       " '👌',\n",
       " '🎈',\n",
       " '💜',\n",
       " '💗',\n",
       " '😅',\n",
       " '💖',\n",
       " '🤔',\n",
       " '😎',\n",
       " '♂',\n",
       " '😔',\n",
       " '🤦',\n",
       " '🙃',\n",
       " '👍',\n",
       " '🤷',\n",
       " '✨',\n",
       " '😏',\n",
       " '🎶',\n",
       " '🎂',\n",
       " '💪',\n",
       " '💛',\n",
       " '😌',\n",
       " '🎊',\n",
       " '😳',\n",
       " '👀',\n",
       " '😉',\n",
       " '😢',\n",
       " '‼',\n",
       " '😋',\n",
       " '💔',\n",
       " '💘',\n",
       " '✌',\n",
       " '♥',\n",
       " '😈',\n",
       " '😴',\n",
       " '🥰',\n",
       " '💋',\n",
       " '💞',\n",
       " '🤗',\n",
       " '🥺',\n",
       " '💚',\n",
       " '🎁',\n",
       " '✊',\n",
       " '😑',\n",
       " '😫',\n",
       " '😜',\n",
       " '💁',\n",
       " '💓',\n",
       " '😡',\n",
       " '😐',\n",
       " '🤘',\n",
       " '😕',\n",
       " '😤',\n",
       " '☀',\n",
       " '😄',\n",
       " '😛',\n",
       " '🙈',\n",
       " '😞',\n",
       " '😻',\n",
       " '🍻',\n",
       " '🏀',\n",
       " '😬',\n",
       " '😇',\n",
       " '🖤',\n",
       " '😪',\n",
       " '🏈',\n",
       " '🙂',\n",
       " '👑',\n",
       " '💃',\n",
       " '😆',\n",
       " '🚨',\n",
       " '👊',\n",
       " '😀',\n",
       " '😃',\n",
       " '😝',\n",
       " '🥳',\n",
       " '😷']"
      ]
     },
     "execution_count": 8,
     "metadata": {},
     "output_type": "execute_result"
    }
   ],
   "source": [
    "import pandas as ps\n",
    "newTokens = list(ps.read_csv(\"/mnt/h/Aspire/BERT/emojis/emojiList.csv\")['emojis'])\n",
    "newTokens"
   ]
  },
  {
   "cell_type": "code",
   "execution_count": 13,
   "id": "99ea0729",
   "metadata": {},
   "outputs": [],
   "source": [
    "def saveBaseModel(saveModel,inToken):\n",
    "    inToken.save_pretrained(f\"{'expandedTokenBase'}\")\n",
    "    saveModel.save_pretrained(f\"{'expandedModelBase'}\")"
   ]
  },
  {
   "cell_type": "code",
   "execution_count": 14,
   "id": "8588e01c",
   "metadata": {},
   "outputs": [
    {
     "name": "stderr",
     "output_type": "stream",
     "text": [
      "loading file vocab.txt from cache at /home/larkinan/.cache/huggingface/hub/models--bert-base-uncased/snapshots/0a6aa9128b6194f4f3c4db429b6cb4891cdb421b/vocab.txt\n",
      "loading file added_tokens.json from cache at None\n",
      "loading file special_tokens_map.json from cache at None\n",
      "loading file tokenizer_config.json from cache at /home/larkinan/.cache/huggingface/hub/models--bert-base-uncased/snapshots/0a6aa9128b6194f4f3c4db429b6cb4891cdb421b/tokenizer_config.json\n",
      "loading configuration file config.json from cache at /home/larkinan/.cache/huggingface/hub/models--bert-base-uncased/snapshots/0a6aa9128b6194f4f3c4db429b6cb4891cdb421b/config.json\n",
      "Model config BertConfig {\n",
      "  \"_name_or_path\": \"bert-base-uncased\",\n",
      "  \"architectures\": [\n",
      "    \"BertForMaskedLM\"\n",
      "  ],\n",
      "  \"attention_probs_dropout_prob\": 0.1,\n",
      "  \"classifier_dropout\": null,\n",
      "  \"gradient_checkpointing\": false,\n",
      "  \"hidden_act\": \"gelu\",\n",
      "  \"hidden_dropout_prob\": 0.1,\n",
      "  \"hidden_size\": 768,\n",
      "  \"initializer_range\": 0.02,\n",
      "  \"intermediate_size\": 3072,\n",
      "  \"layer_norm_eps\": 1e-12,\n",
      "  \"max_position_embeddings\": 512,\n",
      "  \"model_type\": \"bert\",\n",
      "  \"num_attention_heads\": 12,\n",
      "  \"num_hidden_layers\": 12,\n",
      "  \"pad_token_id\": 0,\n",
      "  \"position_embedding_type\": \"absolute\",\n",
      "  \"transformers_version\": \"4.28.1\",\n",
      "  \"type_vocab_size\": 2,\n",
      "  \"use_cache\": true,\n",
      "  \"vocab_size\": 30522\n",
      "}\n",
      "\n",
      "loading configuration file config.json from cache at /home/larkinan/.cache/huggingface/hub/models--bert-base-uncased/snapshots/0a6aa9128b6194f4f3c4db429b6cb4891cdb421b/config.json\n",
      "Model config BertConfig {\n",
      "  \"architectures\": [\n",
      "    \"BertForMaskedLM\"\n",
      "  ],\n",
      "  \"attention_probs_dropout_prob\": 0.1,\n",
      "  \"classifier_dropout\": null,\n",
      "  \"gradient_checkpointing\": false,\n",
      "  \"hidden_act\": \"gelu\",\n",
      "  \"hidden_dropout_prob\": 0.1,\n",
      "  \"hidden_size\": 768,\n",
      "  \"initializer_range\": 0.02,\n",
      "  \"intermediate_size\": 3072,\n",
      "  \"layer_norm_eps\": 1e-12,\n",
      "  \"max_position_embeddings\": 512,\n",
      "  \"model_type\": \"bert\",\n",
      "  \"num_attention_heads\": 12,\n",
      "  \"num_hidden_layers\": 12,\n",
      "  \"pad_token_id\": 0,\n",
      "  \"position_embedding_type\": \"absolute\",\n",
      "  \"transformers_version\": \"4.28.1\",\n",
      "  \"type_vocab_size\": 2,\n",
      "  \"use_cache\": true,\n",
      "  \"vocab_size\": 30522\n",
      "}\n",
      "\n",
      "loading weights file tf_model.h5 from cache at /home/larkinan/.cache/huggingface/hub/models--bert-base-uncased/snapshots/0a6aa9128b6194f4f3c4db429b6cb4891cdb421b/tf_model.h5\n",
      "All model checkpoint layers were used when initializing TFBertForMaskedLM.\n",
      "\n",
      "All the layers of TFBertForMaskedLM were initialized from the model checkpoint at bert-base-uncased.\n",
      "If your task is similar to the task the model of the checkpoint was trained on, you can already use TFBertForMaskedLM for predictions without further training.\n",
      "Adding 😂 to the vocabulary\n",
      "Adding ❤ to the vocabulary\n",
      "Adding 😭 to the vocabulary\n",
      "Adding 😍 to the vocabulary\n",
      "Adding 🎉 to the vocabulary\n",
      "Adding 😊 to the vocabulary\n",
      "Adding 😘 to the vocabulary\n",
      "Adding 😩 to the vocabulary\n",
      "Adding 💕 to the vocabulary\n",
      "Adding 🏽 to the vocabulary\n",
      "Adding 🏼 to the vocabulary\n",
      "Adding 🏾 to the vocabulary\n",
      "Adding 💯 to the vocabulary\n",
      "Adding 🔥 to the vocabulary\n",
      "Adding 🏻 to the vocabulary\n",
      "Adding 🙏 to the vocabulary\n",
      "Adding 🙌 to the vocabulary\n",
      "Adding 🤣 to the vocabulary\n",
      "Adding 😒 to the vocabulary\n",
      "Adding 💙 to the vocabulary\n",
      "Adding ♀ to the vocabulary\n",
      "Adding 🙄 to the vocabulary\n",
      "Adding 😁 to the vocabulary\n",
      "Adding 👏 to the vocabulary\n",
      "Adding ☺ to the vocabulary\n",
      "Adding 💀 to the vocabulary\n",
      "Adding 👌 to the vocabulary\n",
      "Adding 🎈 to the vocabulary\n",
      "Adding 💜 to the vocabulary\n",
      "Adding 💗 to the vocabulary\n",
      "Adding 😅 to the vocabulary\n",
      "Adding 💖 to the vocabulary\n",
      "Adding 🤔 to the vocabulary\n",
      "Adding 😎 to the vocabulary\n",
      "Adding ♂ to the vocabulary\n",
      "Adding 😔 to the vocabulary\n",
      "Adding 🤦 to the vocabulary\n",
      "Adding 🙃 to the vocabulary\n",
      "Adding 👍 to the vocabulary\n",
      "Adding 🤷 to the vocabulary\n",
      "Adding ✨ to the vocabulary\n",
      "Adding 😏 to the vocabulary\n",
      "Adding 🎶 to the vocabulary\n",
      "Adding 🎂 to the vocabulary\n",
      "Adding 💪 to the vocabulary\n",
      "Adding 💛 to the vocabulary\n",
      "Adding 😌 to the vocabulary\n",
      "Adding 🎊 to the vocabulary\n",
      "Adding 😳 to the vocabulary\n",
      "Adding 👀 to the vocabulary\n",
      "Adding 😉 to the vocabulary\n",
      "Adding 😢 to the vocabulary\n",
      "Adding ‼ to the vocabulary\n",
      "Adding 😋 to the vocabulary\n",
      "Adding 💔 to the vocabulary\n",
      "Adding 💘 to the vocabulary\n",
      "Adding ✌ to the vocabulary\n",
      "Adding 😈 to the vocabulary\n",
      "Adding 😴 to the vocabulary\n",
      "Adding 🥰 to the vocabulary\n",
      "Adding 💋 to the vocabulary\n",
      "Adding 💞 to the vocabulary\n",
      "Adding 🤗 to the vocabulary\n",
      "Adding 🥺 to the vocabulary\n",
      "Adding 💚 to the vocabulary\n",
      "Adding 🎁 to the vocabulary\n",
      "Adding ✊ to the vocabulary\n",
      "Adding 😑 to the vocabulary\n",
      "Adding 😫 to the vocabulary\n",
      "Adding 😜 to the vocabulary\n",
      "Adding 💁 to the vocabulary\n",
      "Adding 💓 to the vocabulary\n",
      "Adding 😡 to the vocabulary\n",
      "Adding 😐 to the vocabulary\n",
      "Adding 🤘 to the vocabulary\n",
      "Adding 😕 to the vocabulary\n",
      "Adding 😤 to the vocabulary\n",
      "Adding ☀ to the vocabulary\n",
      "Adding 😄 to the vocabulary\n",
      "Adding 😛 to the vocabulary\n",
      "Adding 🙈 to the vocabulary\n",
      "Adding 😞 to the vocabulary\n",
      "Adding 😻 to the vocabulary\n",
      "Adding 🍻 to the vocabulary\n",
      "Adding 🏀 to the vocabulary\n",
      "Adding 😬 to the vocabulary\n",
      "Adding 😇 to the vocabulary\n",
      "Adding 🖤 to the vocabulary\n",
      "Adding 😪 to the vocabulary\n",
      "Adding 🏈 to the vocabulary\n",
      "Adding 🙂 to the vocabulary\n",
      "Adding 👑 to the vocabulary\n",
      "Adding 💃 to the vocabulary\n",
      "Adding 😆 to the vocabulary\n",
      "Adding 🚨 to the vocabulary\n",
      "Adding 👊 to the vocabulary\n",
      "Adding 😀 to the vocabulary\n",
      "Adding 😃 to the vocabulary\n",
      "Adding 😝 to the vocabulary\n",
      "Adding 🥳 to the vocabulary\n",
      "Adding 😷 to the vocabulary\n",
      "tokenizer config file saved in expandedTokenBase/tokenizer_config.json\n",
      "Special tokens file saved in expandedTokenBase/special_tokens_map.json\n",
      "added tokens file saved in expandedTokenBase/added_tokens.json\n",
      "Configuration saved in expandedModelBase/config.json\n"
     ]
    },
    {
     "name": "stdout",
     "output_type": "stream",
     "text": [
      "tokenizer vocab size: 30623 \n",
      " added tokens: 101\n"
     ]
    },
    {
     "name": "stderr",
     "output_type": "stream",
     "text": [
      "Model weights saved in expandedModelBase/tf_model.h5\n"
     ]
    }
   ],
   "source": [
    "def updateTokenizer2():\n",
    "    tokenizer = BertTokenizer.from_pretrained('bert-base-uncased')\n",
    "    model = TFBertForMaskedLM.from_pretrained('bert-base-uncased')\n",
    "    #tokenizer = BertTokenizer.from_pretrained('testToken1')\n",
    "    #model = TFBertForMaskedLM.from_pretrained('testModel1')\n",
    "    newTokens = list(ps.read_csv(\"/mnt/h/Aspire/BERT/emojis/emojiList.csv\")['emojis'])\n",
    "    added_tokens = tokenizer.add_tokens(newTokens)\n",
    "    print(\"tokenizer vocab size: %i \\n added tokens: %i\" %(len(tokenizer),added_tokens))\n",
    "    \n",
    "    # resize the embeddings matrix of the model \n",
    "    model.resize_token_embeddings(len(tokenizer))\n",
    "    saveBaseModel(model,tokenizer)\n",
    "updateTokenizer2()"
   ]
  },
  {
   "cell_type": "code",
   "execution_count": 6,
   "id": "90a9f440",
   "metadata": {},
   "outputs": [],
   "source": [
    "def identifyNewTokens(inFile):\n",
    "    # apply spaCY tokenizer through scikit-learn\n",
    "    # https://scikit-learn.org/stable/modules/feature_extraction.html#tfidf-term-weighting\n",
    "    tfidf_vectorizer = TfidfVectorizer(\n",
    "        lowercase=False, \n",
    "        tokenizer=spacy_tokenizer, \n",
    "        norm='l2', \n",
    "        use_idf=True, \n",
    "        smooth_idf=True, \n",
    "        sublinear_tf=False\n",
    "    )\n",
    "    \n",
    "    # parse matrix of tfidf\n",
    "    length = len(inFile)\n",
    "    result = tfidf_vectorizer.fit_transform(inFile)\n",
    "\n",
    "    # get idf of tokens\n",
    "    idf = tfidf_vectorizer.idf_\n",
    "\n",
    "    # get tokens from most frequent in documents to least frequent\n",
    "    idf_sorted_indexes = sorted(range(len(idf)), key=lambda k: idf[k])\n",
    "    idf_sorted = idf[idf_sorted_indexes]\n",
    "    \n",
    "    tokens_by_df = np.array(tfidf_vectorizer.get_feature_names_out())[idf_sorted_indexes]\n",
    "    # choose the proportion of new tokens to add in vocabulary\n",
    "    pct = 1 # all tokens present in at least 1%\n",
    "\n",
    "\n",
    "    index_max = len(np.array(idf)[np.array(idf)>=pct])\n",
    "    newTokens = tokens_by_df[:index_max]\n",
    "    newTokens = list(set(newTokens))\n",
    "    return(newTokens)"
   ]
  },
  {
   "cell_type": "code",
   "execution_count": 8,
   "id": "398ad9d0",
   "metadata": {},
   "outputs": [
    {
     "name": "stderr",
     "output_type": "stream",
     "text": [
      "loading file vocab.txt from cache at /home/larkinan/.cache/huggingface/hub/models--bert-base-uncased/snapshots/0a6aa9128b6194f4f3c4db429b6cb4891cdb421b/vocab.txt\n",
      "loading file added_tokens.json from cache at None\n",
      "loading file special_tokens_map.json from cache at None\n",
      "loading file tokenizer_config.json from cache at /home/larkinan/.cache/huggingface/hub/models--bert-base-uncased/snapshots/0a6aa9128b6194f4f3c4db429b6cb4891cdb421b/tokenizer_config.json\n",
      "loading configuration file config.json from cache at /home/larkinan/.cache/huggingface/hub/models--bert-base-uncased/snapshots/0a6aa9128b6194f4f3c4db429b6cb4891cdb421b/config.json\n",
      "Model config BertConfig {\n",
      "  \"_name_or_path\": \"bert-base-uncased\",\n",
      "  \"architectures\": [\n",
      "    \"BertForMaskedLM\"\n",
      "  ],\n",
      "  \"attention_probs_dropout_prob\": 0.1,\n",
      "  \"classifier_dropout\": null,\n",
      "  \"gradient_checkpointing\": false,\n",
      "  \"hidden_act\": \"gelu\",\n",
      "  \"hidden_dropout_prob\": 0.1,\n",
      "  \"hidden_size\": 768,\n",
      "  \"initializer_range\": 0.02,\n",
      "  \"intermediate_size\": 3072,\n",
      "  \"layer_norm_eps\": 1e-12,\n",
      "  \"max_position_embeddings\": 512,\n",
      "  \"model_type\": \"bert\",\n",
      "  \"num_attention_heads\": 12,\n",
      "  \"num_hidden_layers\": 12,\n",
      "  \"pad_token_id\": 0,\n",
      "  \"position_embedding_type\": \"absolute\",\n",
      "  \"transformers_version\": \"4.28.1\",\n",
      "  \"type_vocab_size\": 2,\n",
      "  \"use_cache\": true,\n",
      "  \"vocab_size\": 30522\n",
      "}\n",
      "\n"
     ]
    },
    {
     "name": "stdout",
     "output_type": "stream",
     "text": [
      "['/mnt/h/Aspire/BERT/BERT_text/txt_2014_age.txt', '/mnt/h/Aspire/BERT/BERT_text/txt_2014_env.txt', '/mnt/h/Aspire/BERT/BERT_text/txt_2014_health.txt', '/mnt/h/Aspire/BERT/BERT_text/txt_2014_health2.txt', '/mnt/h/Aspire/BERT/BERT_text/txt_2014_place.txt', '/mnt/h/Aspire/BERT/BERT_text/txt_2015_age.txt', '/mnt/h/Aspire/BERT/BERT_text/txt_2015_env.txt', '/mnt/h/Aspire/BERT/BERT_text/txt_2015_health.txt', '/mnt/h/Aspire/BERT/BERT_text/txt_2015_health2.txt', '/mnt/h/Aspire/BERT/BERT_text/txt_2015_place.txt', '/mnt/h/Aspire/BERT/BERT_text/txt_2016_age.txt', '/mnt/h/Aspire/BERT/BERT_text/txt_2016_env.txt', '/mnt/h/Aspire/BERT/BERT_text/txt_2016_health.txt', '/mnt/h/Aspire/BERT/BERT_text/txt_2016_health2.txt', '/mnt/h/Aspire/BERT/BERT_text/txt_2016_place.txt', '/mnt/h/Aspire/BERT/BERT_text/txt_2017_age.txt', '/mnt/h/Aspire/BERT/BERT_text/txt_2017_env.txt', '/mnt/h/Aspire/BERT/BERT_text/txt_2017_health.txt', '/mnt/h/Aspire/BERT/BERT_text/txt_2017_health2.txt', '/mnt/h/Aspire/BERT/BERT_text/txt_2017_place.txt', '/mnt/h/Aspire/BERT/BERT_text/txt_2018_age.txt', '/mnt/h/Aspire/BERT/BERT_text/txt_2018_env.txt', '/mnt/h/Aspire/BERT/BERT_text/txt_2018_health.txt', '/mnt/h/Aspire/BERT/BERT_text/txt_2018_health2.txt', '/mnt/h/Aspire/BERT/BERT_text/txt_2018_place.txt', '/mnt/h/Aspire/BERT/BERT_text/txt_2019_age.txt', '/mnt/h/Aspire/BERT/BERT_text/txt_2019_env.txt', '/mnt/h/Aspire/BERT/BERT_text/txt_2019_health.txt', '/mnt/h/Aspire/BERT/BERT_text/txt_2019_health2.txt', '/mnt/h/Aspire/BERT/BERT_text/txt_2019_place.txt', '/mnt/h/Aspire/BERT/BERT_text/txt_2020_age.txt', '/mnt/h/Aspire/BERT/BERT_text/txt_2020_env.txt', '/mnt/h/Aspire/BERT/BERT_text/txt_2020_health.txt', '/mnt/h/Aspire/BERT/BERT_text/txt_2020_health2.txt', '/mnt/h/Aspire/BERT/BERT_text/txt_2020_place.txt', '/mnt/h/Aspire/BERT/BERT_text/txt_2021_age.txt', '/mnt/h/Aspire/BERT/BERT_text/txt_2021_env.txt', '/mnt/h/Aspire/BERT/BERT_text/txt_2021_health.txt', '/mnt/h/Aspire/BERT/BERT_text/txt_2021_health2.txt', '/mnt/h/Aspire/BERT/BERT_text/txt_2021_place.txt', '/mnt/h/Aspire/BERT/BERT_text/txt_2022_age.txt', '/mnt/h/Aspire/BERT/BERT_text/txt_2022_env.txt', '/mnt/h/Aspire/BERT/BERT_text/txt_2022_health.txt', '/mnt/h/Aspire/BERT/BERT_text/txt_2022_health2.txt', '/mnt/h/Aspire/BERT/BERT_text/txt_2022_place.txt']\n",
      "[\"Your hustle don't ever go unnoticed baby I'm witchu im with it .\", \"Another #wcw @brefreshhh Shes seriously beyond gorgeous &amp; shes so sweet💜 you're perfection babe👌🙏 love you beautiful http://t.co/M0wNJyH4Hw\", \"Congrats to my man @dddjdlux and Mrs. dLux for having a beautiful baby girl on New Year's Day!\", 'I had to look down to see if she was wearing sneakers with the laces tied together. Cause this girl was straight tripping', '@_dobiedrost I hugged this girl from behind thinking it was you last night. Then she turned around and I was extremely embarrassed.']\n"
     ]
    }
   ],
   "source": [
    "spell = SpellChecker()\n",
    "# define spaCY tokenizer\n",
    "nlp = spacy.load(\n",
    "    \"en_core_web_lg\", \n",
    "    exclude=['morphologizer', 'parser', 'ner', 'attribute_ruler', 'lemmatizer']\n",
    "    )\n",
    "tokenizer = BertTokenizer.from_pretrained('bert-base-uncased')\n",
    "\n",
    "folder = '/mnt/h/Aspire/BERT/BERT_text/'\n",
    "tweetFiles = glob.glob(folder + \"txt_*\")\n",
    "print(tweetFiles)\n",
    "with open(tweetFiles[0],'r') as f:\n",
    "    file = f.read().split(\"\\n\")\n",
    "print(file[0:5])\n",
    "\n",
    "#newTokens = identifyNewTokens(file)\n",
    "\n",
    "#newTokens = screenNewWords(tokenizer,newTokens)\n",
    "#newTokens = newTokens[:100]\n",
    "#model,tokenizer,newTokens = createCustomTokenizer(newTokens,debug=True)\n",
    "#inputs = setupModelInputs(tokenizer,file,debug=True)\n"
   ]
  },
  {
   "cell_type": "code",
   "execution_count": null,
   "id": "473383fe",
   "metadata": {},
   "outputs": [],
   "source": [
    "newTokens = identifyNewTokens(file)\n",
    "newTokens = screenNewWords(tokenizer,newTokens)\n",
    "newTokens = newTokens[:100]"
   ]
  },
  {
   "cell_type": "code",
   "execution_count": 7,
   "id": "4e24c0e8",
   "metadata": {},
   "outputs": [],
   "source": [
    "def mapInputIds(inp):\n",
    "    actual_tokens = list(set(range(100)) - set(np.where((inp == 101) | (inp == 102) | (inp == 0))[0].tolist()))\n",
    "    #We need to select 15% random tokens from the given list\n",
    "    num_of_token_to_mask = int(len(actual_tokens)*0.15)\n",
    "    token_to_mask = np.random.choice(np.array(actual_tokens), size=num_of_token_to_mask, replace=False).tolist()\n",
    "    #Now we have the indices where we need to mask the tokens\n",
    "    inp[token_to_mask] = 103\n",
    "    return(inp)"
   ]
  },
  {
   "cell_type": "code",
   "execution_count": 8,
   "id": "83602138",
   "metadata": {},
   "outputs": [],
   "source": [
    "def createCustomTokenizer(newWordList,debug=False):\n",
    "    # import a model and tokenizer\n",
    "    tokenizer = BertTokenizer.from_pretrained('bert-base-uncased')\n",
    "    model = TFBertForMaskedLM.from_pretrained('bert-base-uncased')\n",
    "    #tokenizer = BertTokenizer.from_pretrained('testToken1')\n",
    "    #model = TFBertForMaskedLM.from_pretrained('testModel1')\n",
    "    \n",
    "    newTokens = screenNewWords(tokenizer,newWordList)\n",
    "    newTokens = newTokens[:100]\n",
    "\n",
    "    ## add new tokens to the existing vocabulary (only those not already presents)\n",
    "    added_tokens = tokenizer.add_tokens(newTokens)\n",
    "    if(debug):\n",
    "        print(\"tokenizer vocab size: %i \\n added tokens: %i\" %(len(tokenizer),added_tokens))\n",
    "    \n",
    "    # resize the embeddings matrix of the model \n",
    "    model.resize_token_embeddings(len(tokenizer))\n",
    "    return(model,tokenizer,newTokens)"
   ]
  },
  {
   "cell_type": "code",
   "execution_count": 10,
   "id": "4d3a0c10",
   "metadata": {},
   "outputs": [],
   "source": []
  },
  {
   "cell_type": "code",
   "execution_count": 12,
   "id": "ee8b2a58",
   "metadata": {},
   "outputs": [],
   "source": [
    "def setupModelInputs(tokenizer,inFile,debug=False):\n",
    "    inputs = tokenizer(file,max_length=100,truncation=True,padding='max_length',return_tensors='tf')\n",
    "    inputs['labels'] = inputs['input_ids']\n",
    "    if debug: \n",
    "        print(inputs.keys())\n",
    "    inp_ids = list(map(mapInputIds,inputs.input_ids.numpy()))\n",
    "    inp_ids = tf.convert_to_tensor(inp_ids)\n",
    "    inputs['input_ids'] = inp_ids\n",
    "\n",
    "    return(inputs)"
   ]
  },
  {
   "cell_type": "code",
   "execution_count": 28,
   "id": "c6adc4b2",
   "metadata": {},
   "outputs": [
    {
     "name": "stdout",
     "output_type": "stream",
     "text": [
      "The Hunger Games\n",
      "\n",
      "\n",
      "The Hunger Games 1by Suzanne Collins\n",
      "\n",
      "PART I\"THE TRIBUTES\"\n",
      "\n",
      "1\n"
     ]
    },
    {
     "name": "stderr",
     "output_type": "stream",
     "text": [
      "/home/larkinan/miniconda3/envs/tf/lib/python3.9/site-packages/sklearn/feature_extraction/text.py:528: UserWarning: The parameter 'token_pattern' will not be used since 'tokenizer' is not None'\n",
      "  warnings.warn(\n",
      "loading file vocab.txt from cache at /home/larkinan/.cache/huggingface/hub/models--bert-base-uncased/snapshots/0a6aa9128b6194f4f3c4db429b6cb4891cdb421b/vocab.txt\n",
      "loading file added_tokens.json from cache at None\n",
      "loading file special_tokens_map.json from cache at None\n",
      "loading file tokenizer_config.json from cache at /home/larkinan/.cache/huggingface/hub/models--bert-base-uncased/snapshots/0a6aa9128b6194f4f3c4db429b6cb4891cdb421b/tokenizer_config.json\n",
      "loading configuration file config.json from cache at /home/larkinan/.cache/huggingface/hub/models--bert-base-uncased/snapshots/0a6aa9128b6194f4f3c4db429b6cb4891cdb421b/config.json\n",
      "Model config BertConfig {\n",
      "  \"_name_or_path\": \"bert-base-uncased\",\n",
      "  \"architectures\": [\n",
      "    \"BertForMaskedLM\"\n",
      "  ],\n",
      "  \"attention_probs_dropout_prob\": 0.1,\n",
      "  \"classifier_dropout\": null,\n",
      "  \"gradient_checkpointing\": false,\n",
      "  \"hidden_act\": \"gelu\",\n",
      "  \"hidden_dropout_prob\": 0.1,\n",
      "  \"hidden_size\": 768,\n",
      "  \"initializer_range\": 0.02,\n",
      "  \"intermediate_size\": 3072,\n",
      "  \"layer_norm_eps\": 1e-12,\n",
      "  \"max_position_embeddings\": 512,\n",
      "  \"model_type\": \"bert\",\n",
      "  \"num_attention_heads\": 12,\n",
      "  \"num_hidden_layers\": 12,\n",
      "  \"pad_token_id\": 0,\n",
      "  \"position_embedding_type\": \"absolute\",\n",
      "  \"transformers_version\": \"4.28.1\",\n",
      "  \"type_vocab_size\": 2,\n",
      "  \"use_cache\": true,\n",
      "  \"vocab_size\": 30522\n",
      "}\n",
      "\n",
      "loading configuration file config.json from cache at /home/larkinan/.cache/huggingface/hub/models--bert-base-uncased/snapshots/0a6aa9128b6194f4f3c4db429b6cb4891cdb421b/config.json\n",
      "Model config BertConfig {\n",
      "  \"architectures\": [\n",
      "    \"BertForMaskedLM\"\n",
      "  ],\n",
      "  \"attention_probs_dropout_prob\": 0.1,\n",
      "  \"classifier_dropout\": null,\n",
      "  \"gradient_checkpointing\": false,\n",
      "  \"hidden_act\": \"gelu\",\n",
      "  \"hidden_dropout_prob\": 0.1,\n",
      "  \"hidden_size\": 768,\n",
      "  \"initializer_range\": 0.02,\n",
      "  \"intermediate_size\": 3072,\n",
      "  \"layer_norm_eps\": 1e-12,\n",
      "  \"max_position_embeddings\": 512,\n",
      "  \"model_type\": \"bert\",\n",
      "  \"num_attention_heads\": 12,\n",
      "  \"num_hidden_layers\": 12,\n",
      "  \"pad_token_id\": 0,\n",
      "  \"position_embedding_type\": \"absolute\",\n",
      "  \"transformers_version\": \"4.28.1\",\n",
      "  \"type_vocab_size\": 2,\n",
      "  \"use_cache\": true,\n",
      "  \"vocab_size\": 30522\n",
      "}\n",
      "\n",
      "loading weights file tf_model.h5 from cache at /home/larkinan/.cache/huggingface/hub/models--bert-base-uncased/snapshots/0a6aa9128b6194f4f3c4db429b6cb4891cdb421b/tf_model.h5\n",
      "All model checkpoint layers were used when initializing TFBertForMaskedLM.\n",
      "\n",
      "All the layers of TFBertForMaskedLM were initialized from the model checkpoint at bert-base-uncased.\n",
      "If your task is similar to the task the model of the checkpoint was trained on, you can already use TFBertForMaskedLM for predictions without further training.\n",
      "Adding iftheyre to the vocabulary\n",
      "Adding gruffly to the vocabulary\n",
      "Adding pokeweed to the vocabulary\n",
      "Adding everdeen to the vocabulary\n",
      "Adding paunchy to the vocabulary\n",
      "Adding i\"the to the vocabulary\n",
      "Adding twelve- to the vocabulary\n",
      "Adding 12s to the vocabulary\n",
      "Adding mockingjays to the vocabulary\n",
      "Adding mellarks to the vocabulary\n",
      "Adding untucked to the vocabulary\n",
      "Adding intones to the vocabulary\n",
      "Adding spotlessly to the vocabulary\n",
      "Adding oclock to the vocabulary\n",
      "Adding muttations to the vocabulary\n",
      "Adding capitols to the vocabulary\n",
      "Adding undersee to the vocabulary\n",
      "Adding mockingjay to the vocabulary\n",
      "Adding primand to the vocabulary\n",
      "Adding panem to the vocabulary\n",
      "Adding 1by to the vocabulary\n",
      "Adding mouser to the vocabulary\n",
      "Adding tessera to the vocabulary\n",
      "Adding 😗 to the vocabulary\n",
      "Adding peetas to the vocabulary\n",
      "Adding reapings to the vocabulary\n",
      "Adding haymitchs to the vocabulary\n",
      "Adding apothecaries to the vocabulary\n",
      "Adding year- to the vocabulary\n",
      "Adding mellark to the vocabulary\n",
      "Adding tesserae to the vocabulary\n",
      "Adding grimness to the vocabulary\n",
      "Adding bloodred to the vocabulary\n",
      "Adding tartness to the vocabulary\n",
      "Adding ducktail to the vocabulary\n",
      "Adding choosier to the vocabulary\n",
      "Adding prims to the vocabulary\n",
      "Adding madges to the vocabulary\n",
      "Adding sixteens to the vocabulary\n",
      "Adding insectlike to the vocabulary\n",
      "Adding 💨 to the vocabulary\n",
      "Adding saes to the vocabulary\n",
      "Adding two- to the vocabulary\n",
      "Adding anothers to the vocabulary\n",
      "Adding themall to the vocabulary\n",
      "Adding abernathy to the vocabulary\n",
      "Adding starvations to the vocabulary\n",
      "Adding appalachia to the vocabulary\n",
      "Adding headon to the vocabulary\n"
     ]
    },
    {
     "name": "stdout",
     "output_type": "stream",
     "text": [
      "tokenizer vocab size: 30571 \n",
      " added tokens: 49\n",
      "dict_keys(['input_ids', 'token_type_ids', 'attention_mask', 'labels'])\n"
     ]
    }
   ],
   "source": []
  },
  {
   "cell_type": "code",
   "execution_count": 30,
   "id": "0bc6ad2b",
   "metadata": {},
   "outputs": [
    {
     "name": "stdout",
     "output_type": "stream",
     "text": [
      "Epoch 1/2\n",
      "39/39 [==============================] - 23s 102ms/step - loss: 0.0116\n",
      "Epoch 2/2\n",
      "39/39 [==============================] - 4s 97ms/step - loss: 0.0045\n",
      "<transformers.models.bert.modeling_tf_bert.TFBertForMaskedLM object at 0x7fb1ef5882e0>\n"
     ]
    }
   ],
   "source": [
    "model.compile(optimizer=tf.keras.optimizers.Adam(learning_rate=0.0001),loss=tf.keras.losses.SparseCategoricalCrossentropy(from_logits=True))\n",
    "history = model.fit([inputs.input_ids,inputs.attention_mask],inputs.labels,verbose=1,batch_size=32,epochs=2)\n",
    "print(model)"
   ]
  },
  {
   "cell_type": "code",
   "execution_count": 31,
   "id": "c83ef441",
   "metadata": {},
   "outputs": [
    {
     "data": {
      "image/png": "[encoded data removed]",
      "text/plain": [
       "<Figure size 500x500 with 1 Axes>"
      ]
     },
     "metadata": {},
     "output_type": "display_data"
    }
   ],
   "source": [
    "losses = history.history['loss']\n",
    "fig = plt.figure(figsize=(5,5))\n",
    "ax1 = fig.add_subplot(111)\n",
    "ax1.plot(range(len(losses)),losses)\n",
    "ax1.set_xlabel(\"Epochs\")\n",
    "ax1.set_ylabel(\"Loss\")\n",
    "ax1.set_title(\"Epoch vs Loss\")\n",
    "plt.grid()\n",
    "plt.show()"
   ]
  },
  {
   "cell_type": "code",
   "execution_count": 32,
   "id": "90752210",
   "metadata": {},
   "outputs": [
    {
     "data": {
      "text/plain": [
       "'everyone good'"
      ]
     },
     "execution_count": 32,
     "metadata": {},
     "output_type": "execute_result"
    }
   ],
   "source": [
    "query = \"Good morning [MASK], have a [MASK] day\"\n",
    "inp = tokenizer(query,return_tensors='tf')\n",
    "mask_loc = np.where(inp.input_ids.numpy()[0] == 103)[0].tolist()\n",
    "out = model(inp).logits[0].numpy()\n",
    "predicted_tokens = np.argmax(out[mask_loc],axis=1).tolist()\n",
    "tokenizer.decode(predicted_tokens)\n",
    "#outputs"
   ]
  },
  {
   "cell_type": "code",
   "execution_count": 33,
   "id": "480b4638",
   "metadata": {},
   "outputs": [],
   "source": [
    "def saveModel(saveModel,inToken,folder,iteration):\n",
    "    inToken.save_pretrained(f\"{'testToken' + str(iteration)}\")\n",
    "    saveModel.save_pretrained(f\"{'testModel' + str(iteration)}\")"
   ]
  },
  {
   "cell_type": "code",
   "execution_count": 34,
   "id": "cdbb3b43",
   "metadata": {},
   "outputs": [
    {
     "name": "stderr",
     "output_type": "stream",
     "text": [
      "tokenizer config file saved in testToken1/tokenizer_config.json\n",
      "Special tokens file saved in testToken1/special_tokens_map.json\n",
      "added tokens file saved in testToken1/added_tokens.json\n",
      "Configuration saved in testModel1/config.json\n",
      "Model weights saved in testModel1/tf_model.h5\n"
     ]
    }
   ],
   "source": [
    "saveModel(model,tokenizer,'a',1)"
   ]
  },
  {
   "cell_type": "code",
   "execution_count": 35,
   "id": "14564117",
   "metadata": {},
   "outputs": [],
   "source": [
    "#from tensorflow.keras.preprocessing.sequence import pad_sequences\n",
    "def buildModel():\n",
    "    MAX_SEQ_LEN = 100\n",
    "    t_i = tf.keras.layers.Input((MAX_SEQ_LEN), dtype=tf.int32, name='text')\n",
    "    m_i = tf.keras.layers.Input((MAX_SEQ_LEN,), dtype=tf.int32, name='a')\n",
    "    s_i = tf.keras.layers.Input((MAX_SEQ_LEN,), dtype=tf.int32, name='b')\n",
    "    btok = TFBertModel.from_pretrained('testModel1')\n",
    "    output = btok([t_i,m_i,s_i])\n",
    "    print(output)\n",
    "    a = tf.keras.layers.Dense(1,activation='softmax')(output['last_hidden_state'])\n",
    "    a = tf.keras.layers.Dense(1,activation='softmax')(output['pooler_output'])\n",
    "    bm2 = tf.keras.Model([t_i,m_i,s_i],a)\n",
    "    bm2.summary()\n",
    "    return(bm2)"
   ]
  },
  {
   "cell_type": "code",
   "execution_count": 36,
   "id": "6e58cf86",
   "metadata": {},
   "outputs": [
    {
     "name": "stderr",
     "output_type": "stream",
     "text": [
      "loading configuration file testModel1/config.json\n",
      "Model config BertConfig {\n",
      "  \"_name_or_path\": \"bert-base-uncased\",\n",
      "  \"architectures\": [\n",
      "    \"BertForMaskedLM\"\n",
      "  ],\n",
      "  \"attention_probs_dropout_prob\": 0.1,\n",
      "  \"classifier_dropout\": null,\n",
      "  \"gradient_checkpointing\": false,\n",
      "  \"hidden_act\": \"gelu\",\n",
      "  \"hidden_dropout_prob\": 0.1,\n",
      "  \"hidden_size\": 768,\n",
      "  \"initializer_range\": 0.02,\n",
      "  \"intermediate_size\": 3072,\n",
      "  \"layer_norm_eps\": 1e-12,\n",
      "  \"max_position_embeddings\": 512,\n",
      "  \"model_type\": \"bert\",\n",
      "  \"num_attention_heads\": 12,\n",
      "  \"num_hidden_layers\": 12,\n",
      "  \"pad_token_id\": 0,\n",
      "  \"position_embedding_type\": \"absolute\",\n",
      "  \"transformers_version\": \"4.28.1\",\n",
      "  \"type_vocab_size\": 2,\n",
      "  \"use_cache\": true,\n",
      "  \"vocab_size\": 30571\n",
      "}\n",
      "\n",
      "loading weights file testModel1/tf_model.h5\n",
      "Some layers from the model checkpoint at testModel1 were not used when initializing TFBertModel: ['mlm___cls']\n",
      "- This IS expected if you are initializing TFBertModel from the checkpoint of a model trained on another task or with another architecture (e.g. initializing a BertForSequenceClassification model from a BertForPreTraining model).\n",
      "- This IS NOT expected if you are initializing TFBertModel from the checkpoint of a model that you expect to be exactly identical (initializing a BertForSequenceClassification model from a BertForSequenceClassification model).\n",
      "Some layers of TFBertModel were not initialized from the model checkpoint at testModel1 and are newly initialized: ['bert/pooler/dense/kernel:0', 'bert/pooler/dense/bias:0']\n",
      "You should probably TRAIN this model on a down-stream task to be able to use it for predictions and inference.\n"
     ]
    },
    {
     "name": "stdout",
     "output_type": "stream",
     "text": [
      "TFBaseModelOutputWithPoolingAndCrossAttentions(last_hidden_state=<KerasTensor: shape=(None, 100, 768) dtype=float32 (created by layer 'tf_bert_model_1')>, pooler_output=<KerasTensor: shape=(None, 768) dtype=float32 (created by layer 'tf_bert_model_1')>, past_key_values=None, hidden_states=None, attentions=None, cross_attentions=None)\n",
      "Model: \"model_1\"\n",
      "__________________________________________________________________________________________________\n",
      " Layer (type)                   Output Shape         Param #     Connected to                     \n",
      "==================================================================================================\n",
      " text (InputLayer)              [(None, 100)]        0           []                               \n",
      "                                                                                                  \n",
      " a (InputLayer)                 [(None, 100)]        0           []                               \n",
      "                                                                                                  \n",
      " b (InputLayer)                 [(None, 100)]        0           []                               \n",
      "                                                                                                  \n",
      " tf_bert_model_1 (TFBertModel)  TFBaseModelOutputWi  109519872   ['text[0][0]',                   \n",
      "                                thPoolingAndCrossAt               'a[0][0]',                      \n",
      "                                tentions(last_hidde               'b[0][0]']                      \n",
      "                                n_state=(None, 100,                                               \n",
      "                                 768),                                                            \n",
      "                                 pooler_output=(Non                                               \n",
      "                                e, 768),                                                          \n",
      "                                 past_key_values=No                                               \n",
      "                                ne, hidden_states=N                                               \n",
      "                                one, attentions=Non                                               \n",
      "                                e, cross_attentions                                               \n",
      "                                =None)                                                            \n",
      "                                                                                                  \n",
      " dense_3 (Dense)                (None, 1)            769         ['tf_bert_model_1[0][1]']        \n",
      "                                                                                                  \n",
      "==================================================================================================\n",
      "Total params: 109,520,641\n",
      "Trainable params: 109,520,641\n",
      "Non-trainable params: 0\n",
      "__________________________________________________________________________________________________\n"
     ]
    }
   ],
   "source": [
    "bm2 = buildModel()\n",
    "bm2.compile(optimizer=tf.keras.optimizers.Adam(learning_rate=0.0001),loss=\"binary_crossentropy\")"
   ]
  },
  {
   "cell_type": "code",
   "execution_count": 37,
   "id": "93b3a4c4",
   "metadata": {},
   "outputs": [
    {
     "name": "stdout",
     "output_type": "stream",
     "text": [
      "tf.Tensor(\n",
      "[[1 1 1 ... 0 0 0]\n",
      " [1 1 1 ... 0 0 0]\n",
      " [1 1 1 ... 0 0 0]\n",
      " ...\n",
      " [1 1 1 ... 0 0 0]\n",
      " [1 1 1 ... 0 0 0]\n",
      " [1 1 0 ... 0 0 0]], shape=(1226, 100), dtype=int32)\n",
      "tf.Tensor(\n",
      "[[1.]\n",
      " [1.]\n",
      " [1.]\n",
      " ...\n",
      " [1.]\n",
      " [1.]\n",
      " [1.]], shape=(1226, 1), dtype=float64)\n"
     ]
    }
   ],
   "source": [
    "#print(inputs['input_ids'])\n",
    "#print(inputs['token_type_ids'])\n",
    "print(inputs['attention_mask'])\n",
    "#print(inputs['labels'])\n",
    "e =  tf.convert_to_tensor(np.ones((1226,1)))\n",
    "print(e)\n",
    "#print(inputs['labels'][:,1]).reshape(1226,1)"
   ]
  },
  {
   "cell_type": "code",
   "execution_count": 38,
   "id": "93a8920f",
   "metadata": {},
   "outputs": [
    {
     "name": "stdout",
     "output_type": "stream",
     "text": [
      "39/39 [==============================] - 23s 135ms/step - loss: 0.0198\n"
     ]
    },
    {
     "data": {
      "text/plain": [
       "<keras.callbacks.History at 0x7fb05c34a310>"
      ]
     },
     "execution_count": 38,
     "metadata": {},
     "output_type": "execute_result"
    }
   ],
   "source": [
    "bm2.fit({\n",
    "    'text':inputs['input_ids'],\n",
    "    'a':inputs['token_type_ids'],\n",
    "    'b':inputs['attention_mask']},e)"
   ]
  },
  {
   "cell_type": "code",
   "execution_count": 39,
   "id": "0973007f",
   "metadata": {},
   "outputs": [
    {
     "data": {
      "image/png": "[encoded data removed]",
      "text/plain": [
       "<IPython.core.display.Image object>"
      ]
     },
     "execution_count": 39,
     "metadata": {},
     "output_type": "execute_result"
    }
   ],
   "source": [
    "tf.keras.utils.plot_model(bm2)"
   ]
  }
 ],
 "metadata": {
  "kernelspec": {
   "display_name": "Python 3 (ipykernel)",
   "language": "python",
   "name": "python3"
  },
  "language_info": {
   "codemirror_mode": {
    "name": "ipython",
    "version": 3
   },
   "file_extension": ".py",
   "mimetype": "text/x-python",
   "name": "python",
   "nbconvert_exporter": "python",
   "pygments_lexer": "ipython3",
   "version": "3.9.16"
  }
 },
 "nbformat": 4,
 "nbformat_minor": 5
}
